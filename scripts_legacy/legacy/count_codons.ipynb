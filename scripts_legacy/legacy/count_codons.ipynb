{
 "cells": [
  {
   "cell_type": "code",
   "execution_count": 38,
   "metadata": {},
   "outputs": [],
   "source": [
    "import pandas as pd"
   ]
  },
  {
   "cell_type": "markdown",
   "metadata": {},
   "source": [
    "### Read Expected and Obesrved subtitutions and take only CytB and 3 Position"
   ]
  },
  {
   "cell_type": "code",
   "execution_count": 39,
   "metadata": {},
   "outputs": [],
   "source": [
    "obs_mut = pd.read_csv('../data/ObsMutSpec.csv')\n",
    "obs_mut = obs_mut[obs_mut['MutType'] >= 1]\n",
    "obs_mut = obs_mut[obs_mut['Gene'] == 'CytB']\n",
    "exp_mut = pd.read_csv('../data/exp_mut_spec.csv',sep='\\t')\n",
    "exp_mut = exp_mut[exp_mut['MutType'] >= 1]\n",
    "exp_mut = exp_mut[exp_mut['Gene'] == 'CYTB']"
   ]
  },
  {
   "cell_type": "markdown",
   "metadata": {},
   "source": [
    "### Check how many species we have in each data set"
   ]
  },
  {
   "cell_type": "code",
   "execution_count": 40,
   "metadata": {},
   "outputs": [
    {
     "name": "stdout",
     "output_type": "stream",
     "text": [
      "1312, 1562\n"
     ]
    }
   ],
   "source": [
    "sps_exp = exp_mut['Species']\n",
    "sps_obs = obs_mut['Species']\n",
    "print(len(sps_exp.unique()), len(sps_obs.unique()), sep=', ')\n"
   ]
  },
  {
   "cell_type": "markdown",
   "metadata": {},
   "source": [
    "### Take species that presented in each dataset "
   ]
  },
  {
   "cell_type": "code",
   "execution_count": 41,
   "metadata": {},
   "outputs": [],
   "source": [
    "obs_mut = obs_mut.loc[obs_mut['Species'].isin(sps_exp.unique())]\n",
    "sps_obs = obs_mut['Species']\n",
    "exp_mut = exp_mut.loc[exp_mut['Species'].isin(sps_obs.unique())]"
   ]
  },
  {
   "cell_type": "markdown",
   "metadata": {},
   "source": [
    "### Count codons in each gene for each species for observed and expected mutations"
   ]
  },
  {
   "cell_type": "code",
   "execution_count": 42,
   "metadata": {},
   "outputs": [],
   "source": [
    "count_obs_df = obs_mut.groupby(['Species', 'Gene']).Mut3.value_counts()\n",
    "count_obs_df.name = 'CountMut3'\n",
    "count_obs_df = count_obs_df.reset_index()\n",
    "final_obs = count_obs_df.pivot(index=['Species', 'Gene'], columns='Mut3', values='CountMut3').fillna(0)\n",
    "final_obs['ExpectedObserved'] = 'Observed'"
   ]
  },
  {
   "cell_type": "code",
   "execution_count": 43,
   "metadata": {},
   "outputs": [],
   "source": [
    "count_exp_df = exp_mut.groupby(['Species', 'Gene']).Mut3.value_counts()\n",
    "count_exp_df.name = 'CountMut3'\n",
    "count_exp_df = count_exp_df.reset_index()\n",
    "final_exp = count_exp_df.pivot(index=['Species', 'Gene'], columns='Mut3', values='CountMut3').fillna(0)\n",
    "final_exp['ExpectedObserved'] = 'Expected'"
   ]
  },
  {
   "cell_type": "code",
   "execution_count": 44,
   "metadata": {},
   "outputs": [
    {
     "data": {
      "text/html": [
       "<div>\n",
       "<style scoped>\n",
       "    .dataframe tbody tr th:only-of-type {\n",
       "        vertical-align: middle;\n",
       "    }\n",
       "\n",
       "    .dataframe tbody tr th {\n",
       "        vertical-align: top;\n",
       "    }\n",
       "\n",
       "    .dataframe thead th {\n",
       "        text-align: right;\n",
       "    }\n",
       "</style>\n",
       "<table border=\"1\" class=\"dataframe\">\n",
       "  <thead>\n",
       "    <tr style=\"text-align: right;\">\n",
       "      <th></th>\n",
       "      <th>Mut3</th>\n",
       "      <th>A[A&gt;G]A</th>\n",
       "      <th>A[A&gt;G]C</th>\n",
       "      <th>A[A&gt;G]G</th>\n",
       "      <th>A[A&gt;G]T</th>\n",
       "      <th>A[C&gt;T]A</th>\n",
       "      <th>A[C&gt;T]C</th>\n",
       "      <th>A[C&gt;T]G</th>\n",
       "      <th>A[C&gt;T]T</th>\n",
       "      <th>A[G&gt;A]A</th>\n",
       "      <th>A[G&gt;A]C</th>\n",
       "      <th>...</th>\n",
       "      <th>T[T&gt;A]T</th>\n",
       "      <th>T[T&gt;C]A</th>\n",
       "      <th>T[T&gt;C]C</th>\n",
       "      <th>T[T&gt;C]G</th>\n",
       "      <th>T[T&gt;C]T</th>\n",
       "      <th>T[T&gt;G]A</th>\n",
       "      <th>T[T&gt;G]C</th>\n",
       "      <th>T[T&gt;G]G</th>\n",
       "      <th>T[T&gt;G]T</th>\n",
       "      <th>ExpectedObserved</th>\n",
       "    </tr>\n",
       "    <tr>\n",
       "      <th>Species</th>\n",
       "      <th>Gene</th>\n",
       "      <th></th>\n",
       "      <th></th>\n",
       "      <th></th>\n",
       "      <th></th>\n",
       "      <th></th>\n",
       "      <th></th>\n",
       "      <th></th>\n",
       "      <th></th>\n",
       "      <th></th>\n",
       "      <th></th>\n",
       "      <th></th>\n",
       "      <th></th>\n",
       "      <th></th>\n",
       "      <th></th>\n",
       "      <th></th>\n",
       "      <th></th>\n",
       "      <th></th>\n",
       "      <th></th>\n",
       "      <th></th>\n",
       "      <th></th>\n",
       "      <th></th>\n",
       "    </tr>\n",
       "  </thead>\n",
       "  <tbody>\n",
       "    <tr>\n",
       "      <th>Abbottina_obtusirostris</th>\n",
       "      <th>CYTB</th>\n",
       "      <td>8.0</td>\n",
       "      <td>4.0</td>\n",
       "      <td>4.0</td>\n",
       "      <td>4.0</td>\n",
       "      <td>12.0</td>\n",
       "      <td>10.0</td>\n",
       "      <td>10.0</td>\n",
       "      <td>17.0</td>\n",
       "      <td>0.0</td>\n",
       "      <td>0.0</td>\n",
       "      <td>...</td>\n",
       "      <td>2.0</td>\n",
       "      <td>10.0</td>\n",
       "      <td>14.0</td>\n",
       "      <td>12.0</td>\n",
       "      <td>10.0</td>\n",
       "      <td>3.0</td>\n",
       "      <td>8.0</td>\n",
       "      <td>6.0</td>\n",
       "      <td>2.0</td>\n",
       "      <td>Expected</td>\n",
       "    </tr>\n",
       "    <tr>\n",
       "      <th>Abbottina_rivularis</th>\n",
       "      <th>CYTB</th>\n",
       "      <td>6.0</td>\n",
       "      <td>3.0</td>\n",
       "      <td>3.0</td>\n",
       "      <td>3.0</td>\n",
       "      <td>16.0</td>\n",
       "      <td>11.0</td>\n",
       "      <td>9.0</td>\n",
       "      <td>21.0</td>\n",
       "      <td>2.0</td>\n",
       "      <td>2.0</td>\n",
       "      <td>...</td>\n",
       "      <td>1.0</td>\n",
       "      <td>5.0</td>\n",
       "      <td>9.0</td>\n",
       "      <td>8.0</td>\n",
       "      <td>12.0</td>\n",
       "      <td>4.0</td>\n",
       "      <td>3.0</td>\n",
       "      <td>3.0</td>\n",
       "      <td>1.0</td>\n",
       "      <td>Expected</td>\n",
       "    </tr>\n",
       "    <tr>\n",
       "      <th>Abramis_brama</th>\n",
       "      <th>CYTB</th>\n",
       "      <td>9.0</td>\n",
       "      <td>3.0</td>\n",
       "      <td>4.0</td>\n",
       "      <td>5.0</td>\n",
       "      <td>8.0</td>\n",
       "      <td>9.0</td>\n",
       "      <td>9.0</td>\n",
       "      <td>18.0</td>\n",
       "      <td>0.0</td>\n",
       "      <td>1.0</td>\n",
       "      <td>...</td>\n",
       "      <td>2.0</td>\n",
       "      <td>10.0</td>\n",
       "      <td>15.0</td>\n",
       "      <td>13.0</td>\n",
       "      <td>11.0</td>\n",
       "      <td>4.0</td>\n",
       "      <td>4.0</td>\n",
       "      <td>6.0</td>\n",
       "      <td>2.0</td>\n",
       "      <td>Expected</td>\n",
       "    </tr>\n",
       "    <tr>\n",
       "      <th>Acanthogobius_hasta</th>\n",
       "      <th>CYTB</th>\n",
       "      <td>7.0</td>\n",
       "      <td>2.0</td>\n",
       "      <td>3.0</td>\n",
       "      <td>2.0</td>\n",
       "      <td>12.0</td>\n",
       "      <td>10.0</td>\n",
       "      <td>9.0</td>\n",
       "      <td>14.0</td>\n",
       "      <td>2.0</td>\n",
       "      <td>2.0</td>\n",
       "      <td>...</td>\n",
       "      <td>3.0</td>\n",
       "      <td>14.0</td>\n",
       "      <td>16.0</td>\n",
       "      <td>22.0</td>\n",
       "      <td>15.0</td>\n",
       "      <td>5.0</td>\n",
       "      <td>9.0</td>\n",
       "      <td>12.0</td>\n",
       "      <td>3.0</td>\n",
       "      <td>Expected</td>\n",
       "    </tr>\n",
       "    <tr>\n",
       "      <th>Acanthopagrus_latus</th>\n",
       "      <th>CYTB</th>\n",
       "      <td>8.0</td>\n",
       "      <td>3.0</td>\n",
       "      <td>4.0</td>\n",
       "      <td>3.0</td>\n",
       "      <td>10.0</td>\n",
       "      <td>12.0</td>\n",
       "      <td>7.0</td>\n",
       "      <td>13.0</td>\n",
       "      <td>0.0</td>\n",
       "      <td>3.0</td>\n",
       "      <td>...</td>\n",
       "      <td>3.0</td>\n",
       "      <td>11.0</td>\n",
       "      <td>12.0</td>\n",
       "      <td>18.0</td>\n",
       "      <td>17.0</td>\n",
       "      <td>5.0</td>\n",
       "      <td>5.0</td>\n",
       "      <td>9.0</td>\n",
       "      <td>3.0</td>\n",
       "      <td>Expected</td>\n",
       "    </tr>\n",
       "  </tbody>\n",
       "</table>\n",
       "<p>5 rows × 161 columns</p>\n",
       "</div>"
      ],
      "text/plain": [
       "Mut3                          A[A>G]A  A[A>G]C  A[A>G]G  A[A>G]T  A[C>T]A  \\\n",
       "Species                 Gene                                                \n",
       "Abbottina_obtusirostris CYTB      8.0      4.0      4.0      4.0     12.0   \n",
       "Abbottina_rivularis     CYTB      6.0      3.0      3.0      3.0     16.0   \n",
       "Abramis_brama           CYTB      9.0      3.0      4.0      5.0      8.0   \n",
       "Acanthogobius_hasta     CYTB      7.0      2.0      3.0      2.0     12.0   \n",
       "Acanthopagrus_latus     CYTB      8.0      3.0      4.0      3.0     10.0   \n",
       "\n",
       "Mut3                          A[C>T]C  A[C>T]G  A[C>T]T  A[G>A]A  A[G>A]C  \\\n",
       "Species                 Gene                                                \n",
       "Abbottina_obtusirostris CYTB     10.0     10.0     17.0      0.0      0.0   \n",
       "Abbottina_rivularis     CYTB     11.0      9.0     21.0      2.0      2.0   \n",
       "Abramis_brama           CYTB      9.0      9.0     18.0      0.0      1.0   \n",
       "Acanthogobius_hasta     CYTB     10.0      9.0     14.0      2.0      2.0   \n",
       "Acanthopagrus_latus     CYTB     12.0      7.0     13.0      0.0      3.0   \n",
       "\n",
       "Mut3                          ...  T[T>A]T  T[T>C]A  T[T>C]C  T[T>C]G  \\\n",
       "Species                 Gene  ...                                       \n",
       "Abbottina_obtusirostris CYTB  ...      2.0     10.0     14.0     12.0   \n",
       "Abbottina_rivularis     CYTB  ...      1.0      5.0      9.0      8.0   \n",
       "Abramis_brama           CYTB  ...      2.0     10.0     15.0     13.0   \n",
       "Acanthogobius_hasta     CYTB  ...      3.0     14.0     16.0     22.0   \n",
       "Acanthopagrus_latus     CYTB  ...      3.0     11.0     12.0     18.0   \n",
       "\n",
       "Mut3                          T[T>C]T  T[T>G]A  T[T>G]C  T[T>G]G  T[T>G]T  \\\n",
       "Species                 Gene                                                \n",
       "Abbottina_obtusirostris CYTB     10.0      3.0      8.0      6.0      2.0   \n",
       "Abbottina_rivularis     CYTB     12.0      4.0      3.0      3.0      1.0   \n",
       "Abramis_brama           CYTB     11.0      4.0      4.0      6.0      2.0   \n",
       "Acanthogobius_hasta     CYTB     15.0      5.0      9.0     12.0      3.0   \n",
       "Acanthopagrus_latus     CYTB     17.0      5.0      5.0      9.0      3.0   \n",
       "\n",
       "Mut3                          ExpectedObserved  \n",
       "Species                 Gene                    \n",
       "Abbottina_obtusirostris CYTB          Expected  \n",
       "Abbottina_rivularis     CYTB          Expected  \n",
       "Abramis_brama           CYTB          Expected  \n",
       "Acanthogobius_hasta     CYTB          Expected  \n",
       "Acanthopagrus_latus     CYTB          Expected  \n",
       "\n",
       "[5 rows x 161 columns]"
      ]
     },
     "execution_count": 44,
     "metadata": {},
     "output_type": "execute_result"
    }
   ],
   "source": [
    "final_exp.head()"
   ]
  },
  {
   "cell_type": "markdown",
   "metadata": {},
   "source": [
    "### Merge tables and sort by species"
   ]
  },
  {
   "cell_type": "code",
   "execution_count": 90,
   "metadata": {},
   "outputs": [
    {
     "name": "stderr",
     "output_type": "stream",
     "text": [
      "/var/folders/5l/9jtg_90x5s575m1zqn_h0kgm0000gn/T/ipykernel_56417/533273452.py:3: PerformanceWarning: DataFrame is highly fragmented.  This is usually the result of calling `frame.insert` many times, which has poor performance.  Consider joining all columns at once using pd.concat(axis=1) instead. To get a de-fragmented frame, use `newframe = frame.copy()`\n",
      "  final_df.insert(0, 'ExpectedObserved', final_df.pop('ExpectedObserved'))\n"
     ]
    }
   ],
   "source": [
    "final_df = pd.concat([final_exp, final_obs])\n",
    "final_df = final_df.sort_values(['Species', 'Gene'])\n",
    "final_df.insert(0, 'ExpectedObserved', final_df.pop('ExpectedObserved'))\n",
    "final_df = final_df.fillna(0)\n",
    "final_df = final_df.reset_index()"
   ]
  },
  {
   "cell_type": "markdown",
   "metadata": {},
   "source": [
    "### Add 0 to non presented cont"
   ]
  },
  {
   "cell_type": "code",
   "execution_count": 91,
   "metadata": {},
   "outputs": [],
   "source": [
    "possible_sbs192 = [\n",
    "    \"A[A>C]A\", \"A[A>C]C\", \"A[A>C]G\", \"A[A>C]T\", \"C[A>C]A\", \"C[A>C]C\", \"C[A>C]G\", \"C[A>C]T\", \n",
    "    \"G[A>C]A\", \"G[A>C]C\", \"G[A>C]G\", \"G[A>C]T\", \"T[A>C]A\", \"T[A>C]C\", \"T[A>C]G\", \"T[A>C]T\", \n",
    "    \"A[A>G]A\", \"A[A>G]C\", \"A[A>G]G\", \"A[A>G]T\", \"C[A>G]A\", \"C[A>G]C\", \"C[A>G]G\", \"C[A>G]T\", \n",
    "    \"G[A>G]A\", \"G[A>G]C\", \"G[A>G]G\", \"G[A>G]T\", \"T[A>G]A\", \"T[A>G]C\", \"T[A>G]G\", \"T[A>G]T\", \n",
    "    \"A[A>T]A\", \"A[A>T]C\", \"A[A>T]G\", \"A[A>T]T\", \"C[A>T]A\", \"C[A>T]C\", \"C[A>T]G\", \"C[A>T]T\", \n",
    "    \"G[A>T]A\", \"G[A>T]C\", \"G[A>T]G\", \"G[A>T]T\", \"T[A>T]A\", \"T[A>T]C\", \"T[A>T]G\", \"T[A>T]T\", \n",
    "    \"A[C>A]A\", \"A[C>A]C\", \"A[C>A]G\", \"A[C>A]T\", \"C[C>A]A\", \"C[C>A]C\", \"C[C>A]G\", \"C[C>A]T\", \n",
    "    \"G[C>A]A\", \"G[C>A]C\", \"G[C>A]G\", \"G[C>A]T\", \"T[C>A]A\", \"T[C>A]C\", \"T[C>A]G\", \"T[C>A]T\", \n",
    "    \"A[C>G]A\", \"A[C>G]C\", \"A[C>G]G\", \"A[C>G]T\", \"C[C>G]A\", \"C[C>G]C\", \"C[C>G]G\", \"C[C>G]T\", \n",
    "    \"G[C>G]A\", \"G[C>G]C\", \"G[C>G]G\", \"G[C>G]T\", \"T[C>G]A\", \"T[C>G]C\", \"T[C>G]G\", \"T[C>G]T\", \n",
    "    \"A[C>T]A\", \"A[C>T]C\", \"A[C>T]G\", \"A[C>T]T\", \"C[C>T]A\", \"C[C>T]C\", \"C[C>T]G\", \"C[C>T]T\", \n",
    "    \"G[C>T]A\", \"G[C>T]C\", \"G[C>T]G\", \"G[C>T]T\", \"T[C>T]A\", \"T[C>T]C\", \"T[C>T]G\", \"T[C>T]T\", \n",
    "    \"A[G>A]A\", \"A[G>A]C\", \"A[G>A]G\", \"A[G>A]T\", \"C[G>A]A\", \"C[G>A]C\", \"C[G>A]G\", \"C[G>A]T\", \n",
    "    \"G[G>A]A\", \"G[G>A]C\", \"G[G>A]G\", \"G[G>A]T\", \"T[G>A]A\", \"T[G>A]C\", \"T[G>A]G\", \"T[G>A]T\", \n",
    "    \"A[G>C]A\", \"A[G>C]C\", \"A[G>C]G\", \"A[G>C]T\", \"C[G>C]A\", \"C[G>C]C\", \"C[G>C]G\", \"C[G>C]T\", \n",
    "    \"G[G>C]A\", \"G[G>C]C\", \"G[G>C]G\", \"G[G>C]T\", \"T[G>C]A\", \"T[G>C]C\", \"T[G>C]G\", \"T[G>C]T\", \n",
    "    \"A[G>T]A\", \"A[G>T]C\", \"A[G>T]G\", \"A[G>T]T\", \"C[G>T]A\", \"C[G>T]C\", \"C[G>T]G\", \"C[G>T]T\", \n",
    "    \"G[G>T]A\", \"G[G>T]C\", \"G[G>T]G\", \"G[G>T]T\", \"T[G>T]A\", \"T[G>T]C\", \"T[G>T]G\", \"T[G>T]T\", \n",
    "    \"A[T>A]A\", \"A[T>A]C\", \"A[T>A]G\", \"A[T>A]T\", \"C[T>A]A\", \"C[T>A]C\", \"C[T>A]G\", \"C[T>A]T\", \n",
    "    \"G[T>A]A\", \"G[T>A]C\", \"G[T>A]G\", \"G[T>A]T\", \"T[T>A]A\", \"T[T>A]C\", \"T[T>A]G\", \"T[T>A]T\", \n",
    "    \"A[T>C]A\", \"A[T>C]C\", \"A[T>C]G\", \"A[T>C]T\", \"C[T>C]A\", \"C[T>C]C\", \"C[T>C]G\", \"C[T>C]T\", \n",
    "    \"G[T>C]A\", \"G[T>C]C\", \"G[T>C]G\", \"G[T>C]T\", \"T[T>C]A\", \"T[T>C]C\", \"T[T>C]G\", \"T[T>C]T\", \n",
    "    \"A[T>G]A\", \"A[T>G]C\", \"A[T>G]G\", \"A[T>G]T\", \"C[T>G]A\", \"C[T>G]C\", \"C[T>G]G\", \"C[T>G]T\", \n",
    "    \"G[T>G]A\", \"G[T>G]C\", \"G[T>G]G\", \"G[T>G]T\", \"T[T>G]A\", \"T[T>G]C\", \"T[T>G]G\", \"T[T>G]T\", \n",
    "]"
   ]
  },
  {
   "cell_type": "code",
   "execution_count": 92,
   "metadata": {},
   "outputs": [],
   "source": [
    "for sbs in possible_sbs192:\n",
    "    if sbs not in final_df.columns:\n",
    "        final_df[sbs] = 0"
   ]
  },
  {
   "cell_type": "code",
   "execution_count": 94,
   "metadata": {},
   "outputs": [],
   "source": [
    "final_df.to_csv('../data/counted_codons_cytb.csv')"
   ]
  },
  {
   "cell_type": "code",
   "execution_count": null,
   "metadata": {},
   "outputs": [],
   "source": []
  }
 ],
 "metadata": {
  "kernelspec": {
   "display_name": "Python 3.10.2 64-bit",
   "language": "python",
   "name": "python3"
  },
  "language_info": {
   "codemirror_mode": {
    "name": "ipython",
    "version": 3
   },
   "file_extension": ".py",
   "mimetype": "text/x-python",
   "name": "python",
   "nbconvert_exporter": "python",
   "pygments_lexer": "ipython3",
   "version": "3.10.2"
  },
  "orig_nbformat": 4,
  "vscode": {
   "interpreter": {
    "hash": "aee8b7b246df8f9039afb4144a1f6fd8d2ca17a180786b69acc140d282b71a49"
   }
  }
 },
 "nbformat": 4,
 "nbformat_minor": 2
}
