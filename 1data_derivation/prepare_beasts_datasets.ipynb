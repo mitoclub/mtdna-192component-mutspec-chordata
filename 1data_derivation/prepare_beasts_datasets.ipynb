{
 "cells": [
  {
   "cell_type": "code",
   "execution_count": 1,
   "metadata": {},
   "outputs": [],
   "source": [
    "import glob, os, sys, re, random\n",
    "from collections import defaultdict, Counter\n",
    "\n",
    "import numpy as np\n",
    "import pandas as pd\n",
    "import matplotlib.pyplot as plt\n",
    "import seaborn as sns\n",
    "import ete3\n",
    "from ete3 import PhyloTree\n",
    "from Bio import SeqIO\n",
    "import tqdm"
   ]
  },
  {
   "cell_type": "markdown",
   "metadata": {},
   "source": [
    "To run this notebook you need to download MIDORI2 database (https://www.reference-midori.info/):\n",
    "- MIDORI2_UNIQ_NUC_GB259_{GeneName}_BLAST.fasta.zip\n",
    "- MIDORI2_LONGEST_AA_GB259_{GeneName}_BLAST.fasta.zip"
   ]
  },
  {
   "cell_type": "markdown",
   "metadata": {},
   "source": [
    "## Chordata *amino acids*"
   ]
  },
  {
   "cell_type": "code",
   "execution_count": 2,
   "metadata": {},
   "outputs": [
    {
     "name": "stderr",
     "output_type": "stream",
     "text": [
      "Gene: 100%|██████████| 13/13 [00:26<00:00,  2.06s/it]\n"
     ]
    }
   ],
   "source": [
    "# collect how many nucleotide sequences in the MIDORI for each gene (simple filtration)\n",
    "\n",
    "def collect_seqs(pattern: str, genes: list, sp=False):\n",
    "    directory = \"../data/MIDORI2/\"\n",
    "    file = \"MIDORI2_UNIQ_NUC_GB259_{}_BLAST.fasta\"\n",
    "    path_to_fasta = directory + file\n",
    "    seqs = defaultdict(list)\n",
    "    for gene in tqdm.tqdm(genes, \"Gene\"):\n",
    "        inp = path_to_fasta.format(gene)\n",
    "        for rec in SeqIO.parse(inp, \"fasta\"):\n",
    "            header = rec.description\n",
    "            \n",
    "            if pattern not in header:\n",
    "                continue\n",
    "\n",
    "            raw_acc, taxa = header.split(\"###\")\n",
    "            acc, place = re.match(\"(\\w+\\.\\d)\\.(.+)\", raw_acc).groups()\n",
    "            taxa = taxa.removeprefix(\"root_1;Eukaryota_2759;\")\n",
    "            species = \" \".join(taxa.split(\";\")[-1].split(\"_\")[:-1])\n",
    "            # change header to more usable format\n",
    "            rec.id = acc\n",
    "            rec.description = f\"{species} {place} ###{taxa}\"\n",
    "            seqs[gene + \"__\" + species.replace(\" \", \"_\")].append(rec)\n",
    "    return seqs\n",
    "\n",
    "\n",
    "phylum = \"Chordata\"\n",
    "genes = ['A6', 'A8', 'CO1', 'CO2', 'CO3', 'Cytb', 'ND1', 'ND2', 'ND3', 'ND4', 'ND4L', 'ND5', 'ND6']\n",
    "seqs_nuc_chordata = collect_seqs(phylum, genes)"
   ]
  },
  {
   "cell_type": "code",
   "execution_count": 11,
   "metadata": {},
   "outputs": [
    {
     "data": {
      "text/plain": [
       "'208867 mt genes in chordates species'"
      ]
     },
     "execution_count": 11,
     "metadata": {},
     "output_type": "execute_result"
    }
   ],
   "source": [
    "str(len(seqs_nuc_chordata)) + ' mt genes in chordates species'"
   ]
  },
  {
   "cell_type": "code",
   "execution_count": 7,
   "metadata": {},
   "outputs": [
    {
     "data": {
      "image/png": "[encoded data removed]",
      "text/plain": [
       "<Figure size 640x480 with 1 Axes>"
      ]
     },
     "metadata": {},
     "output_type": "display_data"
    }
   ],
   "source": [
    "plt.hist([len(v) for _,v in seqs_nuc_chordata.items() if len(v) < 200], bins=100);\n",
    "plt.xlabel('number of sequences');\n",
    "plt.ylabel('number of gene-species');"
   ]
  },
  {
   "cell_type": "code",
   "execution_count": 10,
   "metadata": {},
   "outputs": [
    {
     "data": {
      "text/plain": [
       "49461"
      ]
     },
     "execution_count": 10,
     "metadata": {},
     "output_type": "execute_result"
    }
   ],
   "source": [
    "# number of unique species\n",
    "len(set([x.split('__')[1] for x in seqs_nuc_chordata.keys()]))"
   ]
  },
  {
   "cell_type": "code",
   "execution_count": 12,
   "metadata": {},
   "outputs": [
    {
     "data": {
      "text/plain": [
       "Counter({'Cytb': 33962,\n",
       "         'CO1': 33506,\n",
       "         'ND2': 23602,\n",
       "         'ND4': 14985,\n",
       "         'ND3': 12754,\n",
       "         'ND1': 12684,\n",
       "         'A6': 12543,\n",
       "         'A8': 12033,\n",
       "         'CO2': 10931,\n",
       "         'ND5': 10789,\n",
       "         'CO3': 10428,\n",
       "         'ND4L': 10350,\n",
       "         'ND6': 10300})"
      ]
     },
     "execution_count": 12,
     "metadata": {},
     "output_type": "execute_result"
    }
   ],
   "source": [
    "# number of unique species for each gene\n",
    "Counter([x.split('__')[0] for x in seqs_nuc_chordata.keys()])"
   ]
  },
  {
   "cell_type": "code",
   "execution_count": 15,
   "metadata": {},
   "outputs": [
    {
     "name": "stderr",
     "output_type": "stream",
     "text": [
      "100%|██████████| 13/13 [00:09<00:00,  1.30it/s]"
     ]
    },
    {
     "name": "stdout",
     "output_type": "stream",
     "text": [
      "npassed = 601534\n"
     ]
    },
    {
     "name": "stderr",
     "output_type": "stream",
     "text": [
      "\n"
     ]
    }
   ],
   "source": [
    "# prepare inputs for NeMu-pipeline (it accepts single protein sequence)\n",
    "genes = ['A6', 'A8', 'CO1', 'CO2', 'CO3', 'Cytb', 'ND1', 'ND2', 'ND3', 'ND4', 'ND4L', 'ND5', 'ND6']\n",
    "path_to_fasta = \"../data/MIDORI2/AA/MIDORI2_LONGEST_AA_GB259_{}_BLAST.fasta\"\n",
    "seqs_all = defaultdict(list)\n",
    "data = []\n",
    "\n",
    "npassed = 0\n",
    "for gene in tqdm.tqdm(genes):\n",
    "    inp = path_to_fasta.format(gene)\n",
    "    for rec in SeqIO.parse(inp, \"fasta\"):\n",
    "        header = rec.description\n",
    "\n",
    "        # only chordates\n",
    "        if phylum not in header:\n",
    "            npassed += 1\n",
    "            continue\n",
    "\n",
    "        raw_acc, taxa = header.split(\"###\")\n",
    "        acc, place = re.match(\"(\\w+\\.\\d)\\.(.+)\", raw_acc).groups()\n",
    "        taxa = taxa.removeprefix(\"root_1;Eukaryota_2759;\")\n",
    "        species = \" \".join(taxa.split(\";\")[-1].split(\"_\")[:-1])\n",
    "        gene_species = gene + \"__\" + species.replace(\" \", \"_\")\n",
    "        \n",
    "        # filter out seuqences of gene-species with complex species names and that \n",
    "        # contain less than 10 nucleotide sequences \n",
    "        if species.count(' ') > 2 or len(seqs_nuc_chordata[gene_species]) < 10:\n",
    "            npassed += 1\n",
    "            continue\n",
    "\n",
    "        # collect only \n",
    "        rec.id = acc\n",
    "        rec.description = f\"{species} {place} ###{taxa}\"\n",
    "        seqs_all[gene_species].append(rec)\n",
    "        data.append([\n",
    "            raw_acc, gene, taxa, species\n",
    "        ])\n",
    "\n",
    "df = pd.DataFrame(data, columns=['acc', 'gene', 'taxa', 'species'])\n",
    "print(f'npassed = {npassed}')"
   ]
  },
  {
   "cell_type": "code",
   "execution_count": 16,
   "metadata": {},
   "outputs": [
    {
     "data": {
      "text/plain": [
       "CO1     6697\n",
       "Cytb    6150\n",
       "ND2     2170\n",
       "ND4      988\n",
       "A6       574\n",
       "ND1      480\n",
       "ND5      414\n",
       "ND3      286\n",
       "CO3      277\n",
       "ND6      267\n",
       "CO2      261\n",
       "A8       223\n",
       "ND4L     150\n",
       "Name: gene, dtype: int64"
      ]
     },
     "execution_count": 16,
     "metadata": {},
     "output_type": "execute_result"
    }
   ],
   "source": [
    "# number of species for each gene in final sample for NeMu input\n",
    "df.gene.value_counts()"
   ]
  },
  {
   "cell_type": "code",
   "execution_count": 17,
   "metadata": {},
   "outputs": [
    {
     "data": {
      "text/html": [
       "<div>\n",
       "<style scoped>\n",
       "    .dataframe tbody tr th:only-of-type {\n",
       "        vertical-align: middle;\n",
       "    }\n",
       "\n",
       "    .dataframe tbody tr th {\n",
       "        vertical-align: top;\n",
       "    }\n",
       "\n",
       "    .dataframe thead th {\n",
       "        text-align: right;\n",
       "    }\n",
       "</style>\n",
       "<table border=\"1\" class=\"dataframe\">\n",
       "  <thead>\n",
       "    <tr style=\"text-align: right;\">\n",
       "      <th></th>\n",
       "      <th>acc</th>\n",
       "      <th>gene</th>\n",
       "      <th>taxa</th>\n",
       "      <th>species</th>\n",
       "    </tr>\n",
       "  </thead>\n",
       "  <tbody>\n",
       "    <tr>\n",
       "      <th>0</th>\n",
       "      <td>AB478558.1.8820.9502_BAH86124.1</td>\n",
       "      <td>A6</td>\n",
       "      <td>Chordata_7711;Leptocardii_2682552;Amphioxiform...</td>\n",
       "      <td>Branchiostoma belcheri</td>\n",
       "    </tr>\n",
       "    <tr>\n",
       "      <th>1</th>\n",
       "      <td>AB478590.1.8806.9488_BAH86540.1</td>\n",
       "      <td>A6</td>\n",
       "      <td>Chordata_7711;Leptocardii_2682552;Amphioxiform...</td>\n",
       "      <td>Branchiostoma floridae</td>\n",
       "    </tr>\n",
       "    <tr>\n",
       "      <th>2</th>\n",
       "      <td>Y09525.1.238.&gt;921_CAA70712.1</td>\n",
       "      <td>A6</td>\n",
       "      <td>Chordata_7711;Leptocardii_2682552;Amphioxiform...</td>\n",
       "      <td>Branchiostoma lanceolatum</td>\n",
       "    </tr>\n",
       "    <tr>\n",
       "      <th>3</th>\n",
       "      <td>KP722183.1.159.&gt;838_AJV90905.1</td>\n",
       "      <td>A6</td>\n",
       "      <td>Chordata_7711;Hyperoartia_117569;Petromyzontif...</td>\n",
       "      <td>Lampetra fluviatilis</td>\n",
       "    </tr>\n",
       "    <tr>\n",
       "      <th>4</th>\n",
       "      <td>FR669668.2.1432.&gt;2101_CBW30998.1</td>\n",
       "      <td>A6</td>\n",
       "      <td>Chordata_7711;Hyperoartia_117569;Petromyzontif...</td>\n",
       "      <td>Lampetra planeri</td>\n",
       "    </tr>\n",
       "    <tr>\n",
       "      <th>...</th>\n",
       "      <td>...</td>\n",
       "      <td>...</td>\n",
       "      <td>...</td>\n",
       "      <td>...</td>\n",
       "    </tr>\n",
       "    <tr>\n",
       "      <th>18932</th>\n",
       "      <td>KY676708.1.1.519_AVM18678.1</td>\n",
       "      <td>ND6</td>\n",
       "      <td>Chordata_7711;Amphibia_8292;Caudata_8293;Pleth...</td>\n",
       "      <td>Eurycea braggi</td>\n",
       "    </tr>\n",
       "    <tr>\n",
       "      <th>18933</th>\n",
       "      <td>KY676695.1.1.519_AVM18665.1</td>\n",
       "      <td>ND6</td>\n",
       "      <td>Chordata_7711;Amphibia_8292;Caudata_8293;Pleth...</td>\n",
       "      <td>Eurycea spelaea</td>\n",
       "    </tr>\n",
       "    <tr>\n",
       "      <th>18934</th>\n",
       "      <td>EU880310.1.14048.13530_ACJ43568.1</td>\n",
       "      <td>ND6</td>\n",
       "      <td>Chordata_7711;Amphibia_8292;Caudata_8293;Salam...</td>\n",
       "      <td>Cynops ensicauda</td>\n",
       "    </tr>\n",
       "    <tr>\n",
       "      <th>18935</th>\n",
       "      <td>EU880313.1.14046.13528_ACJ43607.1</td>\n",
       "      <td>ND6</td>\n",
       "      <td>Chordata_7711;Amphibia_8292;Caudata_8293;Salam...</td>\n",
       "      <td>Cynops pyrrhogaster</td>\n",
       "    </tr>\n",
       "    <tr>\n",
       "      <th>18936</th>\n",
       "      <td>OP006882.1.14279.13758_WKR31615.1</td>\n",
       "      <td>ND6</td>\n",
       "      <td>Chordata_7711;Chondrichthyes_7777;Carcharhinif...</td>\n",
       "      <td>Carcharhinus leucas</td>\n",
       "    </tr>\n",
       "  </tbody>\n",
       "</table>\n",
       "<p>18937 rows × 4 columns</p>\n",
       "</div>"
      ],
      "text/plain": [
       "                                     acc gene  \\\n",
       "0        AB478558.1.8820.9502_BAH86124.1   A6   \n",
       "1        AB478590.1.8806.9488_BAH86540.1   A6   \n",
       "2           Y09525.1.238.>921_CAA70712.1   A6   \n",
       "3         KP722183.1.159.>838_AJV90905.1   A6   \n",
       "4       FR669668.2.1432.>2101_CBW30998.1   A6   \n",
       "...                                  ...  ...   \n",
       "18932        KY676708.1.1.519_AVM18678.1  ND6   \n",
       "18933        KY676695.1.1.519_AVM18665.1  ND6   \n",
       "18934  EU880310.1.14048.13530_ACJ43568.1  ND6   \n",
       "18935  EU880313.1.14046.13528_ACJ43607.1  ND6   \n",
       "18936  OP006882.1.14279.13758_WKR31615.1  ND6   \n",
       "\n",
       "                                                    taxa  \\\n",
       "0      Chordata_7711;Leptocardii_2682552;Amphioxiform...   \n",
       "1      Chordata_7711;Leptocardii_2682552;Amphioxiform...   \n",
       "2      Chordata_7711;Leptocardii_2682552;Amphioxiform...   \n",
       "3      Chordata_7711;Hyperoartia_117569;Petromyzontif...   \n",
       "4      Chordata_7711;Hyperoartia_117569;Petromyzontif...   \n",
       "...                                                  ...   \n",
       "18932  Chordata_7711;Amphibia_8292;Caudata_8293;Pleth...   \n",
       "18933  Chordata_7711;Amphibia_8292;Caudata_8293;Pleth...   \n",
       "18934  Chordata_7711;Amphibia_8292;Caudata_8293;Salam...   \n",
       "18935  Chordata_7711;Amphibia_8292;Caudata_8293;Salam...   \n",
       "18936  Chordata_7711;Chondrichthyes_7777;Carcharhinif...   \n",
       "\n",
       "                         species  \n",
       "0         Branchiostoma belcheri  \n",
       "1         Branchiostoma floridae  \n",
       "2      Branchiostoma lanceolatum  \n",
       "3           Lampetra fluviatilis  \n",
       "4               Lampetra planeri  \n",
       "...                          ...  \n",
       "18932             Eurycea braggi  \n",
       "18933            Eurycea spelaea  \n",
       "18934           Cynops ensicauda  \n",
       "18935        Cynops pyrrhogaster  \n",
       "18936        Carcharhinus leucas  \n",
       "\n",
       "[18937 rows x 4 columns]"
      ]
     },
     "execution_count": 17,
     "metadata": {},
     "output_type": "execute_result"
    }
   ],
   "source": [
    "df "
   ]
  },
  {
   "cell_type": "code",
   "execution_count": 18,
   "metadata": {},
   "outputs": [
    {
     "name": "stderr",
     "output_type": "stream",
     "text": [
      "100%|██████████| 18937/18937 [00:16<00:00, 1126.53it/s]\n"
     ]
    }
   ],
   "source": [
    "# save all sequences in separate fasta files to run NeMu-pipeline in advanced mode\n",
    "outdir = '../data/chordata2/input'\n",
    "for gene_species, rec in tqdm.tqdm(seqs_all.items()):\n",
    "    gene, _ = gene_species.split('__')\n",
    "    gdir = f'{outdir}/{gene}'\n",
    "    if not os.path.exists(gdir):\n",
    "        os.mkdir(gdir)\n",
    "        \n",
    "    SeqIO.write(rec, f'{gdir}/{gene_species}.fasta', 'fasta-2line')"
   ]
  },
  {
   "cell_type": "code",
   "execution_count": 19,
   "metadata": {},
   "outputs": [],
   "source": [
    "# save metainformation about prepared sequences (taxonomy and ID)\n",
    "df.to_csv('../data/chordata2/info.csv', index=False)"
   ]
  },
  {
   "cell_type": "code",
   "execution_count": null,
   "metadata": {},
   "outputs": [],
   "source": []
  }
 ],
 "metadata": {
  "kernelspec": {
   "display_name": "env_bio",
   "language": "python",
   "name": "python3"
  },
  "language_info": {
   "codemirror_mode": {
    "name": "ipython",
    "version": 3
   },
   "file_extension": ".py",
   "mimetype": "text/x-python",
   "name": "python",
   "nbconvert_exporter": "python",
   "pygments_lexer": "ipython3",
   "version": "3.9.5"
  },
  "orig_nbformat": 4,
  "vscode": {
   "interpreter": {
    "hash": "c737589ac25c2b5207a58295544dae93bde342e9f173b68ed1d9625ade55517f"
   }
  }
 },
 "nbformat": 4,
 "nbformat_minor": 2
}
