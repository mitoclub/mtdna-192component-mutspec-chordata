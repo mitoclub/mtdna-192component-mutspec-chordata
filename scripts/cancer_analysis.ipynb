{
 "cells": [
  {
   "cell_type": "code",
   "execution_count": 1,
   "metadata": {},
   "outputs": [],
   "source": [
    "import warnings\n",
    "warnings.filterwarnings(\"ignore\")\n",
    "\n",
    "import pandas as pd\n",
    "import matplotlib.pyplot as plt\n",
    "import seaborn as sns\n",
    "from pymutspec.annotation import calculate_mutspec, CodonAnnotation, mutations_summary\n",
    "\n",
    "sns.set_style()"
   ]
  },
  {
   "cell_type": "code",
   "execution_count": 2,
   "metadata": {},
   "outputs": [],
   "source": [
    "coda = CodonAnnotation(2)"
   ]
  },
  {
   "cell_type": "markdown",
   "metadata": {},
   "source": [
    "## Load prepared mutations and reference"
   ]
  },
  {
   "cell_type": "code",
   "execution_count": 3,
   "metadata": {},
   "outputs": [
    {
     "name": "stdout",
     "output_type": "stream",
     "text": [
      "(7611, 16)\n"
     ]
    },
    {
     "data": {
      "text/html": [
       "<div>\n",
       "<style scoped>\n",
       "    .dataframe tbody tr th:only-of-type {\n",
       "        vertical-align: middle;\n",
       "    }\n",
       "\n",
       "    .dataframe tbody tr th {\n",
       "        vertical-align: top;\n",
       "    }\n",
       "\n",
       "    .dataframe thead th {\n",
       "        text-align: right;\n",
       "    }\n",
       "</style>\n",
       "<table border=\"1\" class=\"dataframe\">\n",
       "  <thead>\n",
       "    <tr style=\"text-align: right;\">\n",
       "      <th></th>\n",
       "      <th>tissue</th>\n",
       "      <th>TurnOverDays</th>\n",
       "      <th>tumor_var_freq</th>\n",
       "      <th>Pos</th>\n",
       "      <th>Nuc</th>\n",
       "      <th>Context</th>\n",
       "      <th>Strand</th>\n",
       "      <th>Type</th>\n",
       "      <th>GeneName</th>\n",
       "      <th>PosInGene</th>\n",
       "      <th>PosInCodon</th>\n",
       "      <th>Codon</th>\n",
       "      <th>TBSS</th>\n",
       "      <th>AltCodon</th>\n",
       "      <th>Label</th>\n",
       "      <th>Mut</th>\n",
       "    </tr>\n",
       "  </thead>\n",
       "  <tbody>\n",
       "    <tr>\n",
       "      <th>0</th>\n",
       "      <td>Bladder</td>\n",
       "      <td>200.0</td>\n",
       "      <td>38.7900</td>\n",
       "      <td>2680</td>\n",
       "      <td>T</td>\n",
       "      <td>TTG</td>\n",
       "      <td>1</td>\n",
       "      <td>rRNA</td>\n",
       "      <td>RNR2</td>\n",
       "      <td>-1</td>\n",
       "      <td>-1</td>\n",
       "      <td>NaN</td>\n",
       "      <td>10487.0</td>\n",
       "      <td>NaN</td>\n",
       "      <td>0</td>\n",
       "      <td>T[T&gt;C]G</td>\n",
       "    </tr>\n",
       "    <tr>\n",
       "      <th>1</th>\n",
       "      <td>Pancreas</td>\n",
       "      <td>360.0</td>\n",
       "      <td>21.0500</td>\n",
       "      <td>2680</td>\n",
       "      <td>T</td>\n",
       "      <td>TTG</td>\n",
       "      <td>1</td>\n",
       "      <td>rRNA</td>\n",
       "      <td>RNR2</td>\n",
       "      <td>-1</td>\n",
       "      <td>-1</td>\n",
       "      <td>NaN</td>\n",
       "      <td>10487.0</td>\n",
       "      <td>NaN</td>\n",
       "      <td>0</td>\n",
       "      <td>T[T&gt;C]G</td>\n",
       "    </tr>\n",
       "    <tr>\n",
       "      <th>2</th>\n",
       "      <td>Bladder</td>\n",
       "      <td>200.0</td>\n",
       "      <td>10.1400</td>\n",
       "      <td>6011</td>\n",
       "      <td>T</td>\n",
       "      <td>TTA</td>\n",
       "      <td>1</td>\n",
       "      <td>CDS</td>\n",
       "      <td>COX1</td>\n",
       "      <td>108</td>\n",
       "      <td>3</td>\n",
       "      <td>CTT</td>\n",
       "      <td>426.0</td>\n",
       "      <td>CTC</td>\n",
       "      <td>2</td>\n",
       "      <td>T[T&gt;C]A</td>\n",
       "    </tr>\n",
       "    <tr>\n",
       "      <th>3</th>\n",
       "      <td>Bladder</td>\n",
       "      <td>200.0</td>\n",
       "      <td>37.3900</td>\n",
       "      <td>7706</td>\n",
       "      <td>G</td>\n",
       "      <td>TGC</td>\n",
       "      <td>1</td>\n",
       "      <td>CDS</td>\n",
       "      <td>COX2</td>\n",
       "      <td>121</td>\n",
       "      <td>1</td>\n",
       "      <td>GCC</td>\n",
       "      <td>3816.0</td>\n",
       "      <td>ACC</td>\n",
       "      <td>0</td>\n",
       "      <td>T[G&gt;A]C</td>\n",
       "    </tr>\n",
       "    <tr>\n",
       "      <th>4</th>\n",
       "      <td>Esophagus</td>\n",
       "      <td>11.0</td>\n",
       "      <td>0.7013</td>\n",
       "      <td>7706</td>\n",
       "      <td>G</td>\n",
       "      <td>TGC</td>\n",
       "      <td>1</td>\n",
       "      <td>CDS</td>\n",
       "      <td>COX2</td>\n",
       "      <td>121</td>\n",
       "      <td>1</td>\n",
       "      <td>GCC</td>\n",
       "      <td>3816.0</td>\n",
       "      <td>ACC</td>\n",
       "      <td>0</td>\n",
       "      <td>T[G&gt;A]C</td>\n",
       "    </tr>\n",
       "  </tbody>\n",
       "</table>\n",
       "</div>"
      ],
      "text/plain": [
       "      tissue  TurnOverDays  tumor_var_freq   Pos Nuc Context  Strand  Type  \\\n",
       "0    Bladder         200.0         38.7900  2680   T     TTG       1  rRNA   \n",
       "1   Pancreas         360.0         21.0500  2680   T     TTG       1  rRNA   \n",
       "2    Bladder         200.0         10.1400  6011   T     TTA       1   CDS   \n",
       "3    Bladder         200.0         37.3900  7706   G     TGC       1   CDS   \n",
       "4  Esophagus          11.0          0.7013  7706   G     TGC       1   CDS   \n",
       "\n",
       "  GeneName  PosInGene  PosInCodon Codon     TBSS AltCodon  Label      Mut  \n",
       "0     RNR2         -1          -1   NaN  10487.0      NaN      0  T[T>C]G  \n",
       "1     RNR2         -1          -1   NaN  10487.0      NaN      0  T[T>C]G  \n",
       "2     COX1        108           3   CTT    426.0      CTC      2  T[T>C]A  \n",
       "3     COX2        121           1   GCC   3816.0      ACC      0  T[G>A]C  \n",
       "4     COX2        121           1   GCC   3816.0      ACC      0  T[G>A]C  "
      ]
     },
     "execution_count": 3,
     "metadata": {},
     "output_type": "execute_result"
    }
   ],
   "source": [
    "mutations = pd.read_csv(\"https://raw.githubusercontent.com/mitoclub/mtdnaMutSpecOfCancers/main/data/processed/mutations.csv\")\n",
    "print(mutations.shape)\n",
    "mutations.head()"
   ]
  },
  {
   "cell_type": "code",
   "execution_count": 4,
   "metadata": {},
   "outputs": [
    {
     "name": "stdout",
     "output_type": "stream",
     "text": [
      "(16569, 10)\n"
     ]
    },
    {
     "data": {
      "text/html": [
       "<div>\n",
       "<style scoped>\n",
       "    .dataframe tbody tr th:only-of-type {\n",
       "        vertical-align: middle;\n",
       "    }\n",
       "\n",
       "    .dataframe tbody tr th {\n",
       "        vertical-align: top;\n",
       "    }\n",
       "\n",
       "    .dataframe thead th {\n",
       "        text-align: right;\n",
       "    }\n",
       "</style>\n",
       "<table border=\"1\" class=\"dataframe\">\n",
       "  <thead>\n",
       "    <tr style=\"text-align: right;\">\n",
       "      <th></th>\n",
       "      <th>Pos</th>\n",
       "      <th>Nuc</th>\n",
       "      <th>Context</th>\n",
       "      <th>Strand</th>\n",
       "      <th>Type</th>\n",
       "      <th>GeneName</th>\n",
       "      <th>PosInGene</th>\n",
       "      <th>PosInCodon</th>\n",
       "      <th>Codon</th>\n",
       "      <th>TBSS</th>\n",
       "    </tr>\n",
       "  </thead>\n",
       "  <tbody>\n",
       "    <tr>\n",
       "      <th>0</th>\n",
       "      <td>1</td>\n",
       "      <td>G</td>\n",
       "      <td>NaN</td>\n",
       "      <td>-1</td>\n",
       "      <td>D-loop</td>\n",
       "      <td>NaN</td>\n",
       "      <td>-1</td>\n",
       "      <td>-1</td>\n",
       "      <td>NaN</td>\n",
       "      <td>NaN</td>\n",
       "    </tr>\n",
       "    <tr>\n",
       "      <th>1</th>\n",
       "      <td>2</td>\n",
       "      <td>A</td>\n",
       "      <td>GAT</td>\n",
       "      <td>-1</td>\n",
       "      <td>D-loop</td>\n",
       "      <td>NaN</td>\n",
       "      <td>-1</td>\n",
       "      <td>-1</td>\n",
       "      <td>NaN</td>\n",
       "      <td>NaN</td>\n",
       "    </tr>\n",
       "    <tr>\n",
       "      <th>2</th>\n",
       "      <td>3</td>\n",
       "      <td>T</td>\n",
       "      <td>ATC</td>\n",
       "      <td>-1</td>\n",
       "      <td>D-loop</td>\n",
       "      <td>NaN</td>\n",
       "      <td>-1</td>\n",
       "      <td>-1</td>\n",
       "      <td>NaN</td>\n",
       "      <td>NaN</td>\n",
       "    </tr>\n",
       "    <tr>\n",
       "      <th>3</th>\n",
       "      <td>4</td>\n",
       "      <td>C</td>\n",
       "      <td>TCA</td>\n",
       "      <td>-1</td>\n",
       "      <td>D-loop</td>\n",
       "      <td>NaN</td>\n",
       "      <td>-1</td>\n",
       "      <td>-1</td>\n",
       "      <td>NaN</td>\n",
       "      <td>NaN</td>\n",
       "    </tr>\n",
       "    <tr>\n",
       "      <th>4</th>\n",
       "      <td>5</td>\n",
       "      <td>A</td>\n",
       "      <td>CAC</td>\n",
       "      <td>-1</td>\n",
       "      <td>D-loop</td>\n",
       "      <td>NaN</td>\n",
       "      <td>-1</td>\n",
       "      <td>-1</td>\n",
       "      <td>NaN</td>\n",
       "      <td>NaN</td>\n",
       "    </tr>\n",
       "  </tbody>\n",
       "</table>\n",
       "</div>"
      ],
      "text/plain": [
       "   Pos Nuc Context  Strand    Type GeneName  PosInGene  PosInCodon Codon  TBSS\n",
       "0    1   G     NaN      -1  D-loop      NaN         -1          -1   NaN   NaN\n",
       "1    2   A     GAT      -1  D-loop      NaN         -1          -1   NaN   NaN\n",
       "2    3   T     ATC      -1  D-loop      NaN         -1          -1   NaN   NaN\n",
       "3    4   C     TCA      -1  D-loop      NaN         -1          -1   NaN   NaN\n",
       "4    5   A     CAC      -1  D-loop      NaN         -1          -1   NaN   NaN"
      ]
     },
     "execution_count": 4,
     "metadata": {},
     "output_type": "execute_result"
    }
   ],
   "source": [
    "Ref = pd.read_csv(\"https://raw.githubusercontent.com/mitoclub/mtdnaMutSpecOfCancers/main/data/processed/ref_annot.csv\")\n",
    "print(Ref.shape)\n",
    "Ref.head()"
   ]
  },
  {
   "cell_type": "markdown",
   "metadata": {},
   "source": [
    "### Describe observed mutations"
   ]
  },
  {
   "cell_type": "code",
   "execution_count": 5,
   "metadata": {},
   "outputs": [
    {
     "data": {
      "image/png": "[encoded data removed]",
      "text/plain": [
       "<Figure size 216x576 with 1 Axes>"
      ]
     },
     "metadata": {
      "needs_background": "light"
     },
     "output_type": "display_data"
    }
   ],
   "source": [
    "plt.figure(figsize=(3, 8))\n",
    "mutations.tissue.value_counts(ascending=True).plot.barh(color=\"gray\")\n",
    "plt.xlabel(\"#mutations\", fontsize=14)\n",
    "plt.xticks(fontsize=14)\n",
    "plt.yticks(fontsize=13)\n",
    "plt.show()"
   ]
  },
  {
   "cell_type": "code",
   "execution_count": 6,
   "metadata": {},
   "outputs": [
    {
     "data": {
      "image/png": "[encoded data removed]",
      "text/plain": [
       "<Figure size 648x216 with 1 Axes>"
      ]
     },
     "metadata": {
      "needs_background": "light"
     },
     "output_type": "display_data"
    }
   ],
   "source": [
    "plt.figure(figsize=(9, 3))\n",
    "mutations.GeneName.value_counts().plot.bar();"
   ]
  },
  {
   "cell_type": "code",
   "execution_count": 7,
   "metadata": {},
   "outputs": [
    {
     "data": {
      "text/plain": [
       " 1    6209\n",
       "-1    1359\n",
       " 0      43\n",
       "Name: Strand, dtype: int64"
      ]
     },
     "execution_count": 7,
     "metadata": {},
     "output_type": "execute_result"
    }
   ],
   "source": [
    "mutations.Strand.value_counts()"
   ]
  },
  {
   "cell_type": "code",
   "execution_count": 8,
   "metadata": {},
   "outputs": [
    {
     "data": {
      "text/plain": [
       " 0    6488\n",
       " 2     462\n",
       " 1     373\n",
       "-1     278\n",
       "-3      10\n",
       "Name: Label, dtype: int64"
      ]
     },
     "execution_count": 8,
     "metadata": {},
     "output_type": "execute_result"
    }
   ],
   "source": [
    "mutations.Label.value_counts()"
   ]
  },
  {
   "cell_type": "code",
   "execution_count": 9,
   "metadata": {},
   "outputs": [
    {
     "data": {
      "image/png": "[encoded data removed]",
      "text/plain": [
       "<Figure size 864x216 with 1 Axes>"
      ]
     },
     "metadata": {
      "needs_background": "light"
     },
     "output_type": "display_data"
    }
   ],
   "source": [
    "plt.figure(figsize=(12, 3))\n",
    "# plt.title(\"Distribution of mutaions on genome\")\n",
    "plt.xlabel(\"MT Genome position\", fontsize=14)\n",
    "plt.ylabel(\"#mutations\", fontsize=14)\n",
    "sns.histplot(mutations.Pos, bins=200, color=\"gray\")\n",
    "plt.xlim(-100, 16700)\n",
    "plt.show()"
   ]
  },
  {
   "cell_type": "code",
   "execution_count": 11,
   "metadata": {},
   "outputs": [
    {
     "data": {
      "text/html": [
       "<div>\n",
       "<style scoped>\n",
       "    .dataframe tbody tr th:only-of-type {\n",
       "        vertical-align: middle;\n",
       "    }\n",
       "\n",
       "    .dataframe tbody tr th {\n",
       "        vertical-align: top;\n",
       "    }\n",
       "\n",
       "    .dataframe thead th {\n",
       "        text-align: right;\n",
       "    }\n",
       "</style>\n",
       "<table border=\"1\" class=\"dataframe\">\n",
       "  <thead>\n",
       "    <tr style=\"text-align: right;\">\n",
       "      <th></th>\n",
       "      <th>non-syn</th>\n",
       "      <th>syn</th>\n",
       "      <th>syn4f</th>\n",
       "      <th>Stop gain</th>\n",
       "      <th>Stop to stop</th>\n",
       "    </tr>\n",
       "    <tr>\n",
       "      <th>GeneName</th>\n",
       "      <th></th>\n",
       "      <th></th>\n",
       "      <th></th>\n",
       "      <th></th>\n",
       "      <th></th>\n",
       "    </tr>\n",
       "  </thead>\n",
       "  <tbody>\n",
       "    <tr>\n",
       "      <th>ATP6</th>\n",
       "      <td>150</td>\n",
       "      <td>51</td>\n",
       "      <td>31</td>\n",
       "      <td>5</td>\n",
       "      <td>0</td>\n",
       "    </tr>\n",
       "    <tr>\n",
       "      <th>ATP8</th>\n",
       "      <td>11</td>\n",
       "      <td>13</td>\n",
       "      <td>2</td>\n",
       "      <td>5</td>\n",
       "      <td>0</td>\n",
       "    </tr>\n",
       "    <tr>\n",
       "      <th>COX1</th>\n",
       "      <td>428</td>\n",
       "      <td>124</td>\n",
       "      <td>72</td>\n",
       "      <td>59</td>\n",
       "      <td>0</td>\n",
       "    </tr>\n",
       "    <tr>\n",
       "      <th>COX2</th>\n",
       "      <td>184</td>\n",
       "      <td>45</td>\n",
       "      <td>28</td>\n",
       "      <td>9</td>\n",
       "      <td>1</td>\n",
       "    </tr>\n",
       "    <tr>\n",
       "      <th>COX3</th>\n",
       "      <td>261</td>\n",
       "      <td>47</td>\n",
       "      <td>22</td>\n",
       "      <td>30</td>\n",
       "      <td>0</td>\n",
       "    </tr>\n",
       "    <tr>\n",
       "      <th>CYTB</th>\n",
       "      <td>450</td>\n",
       "      <td>83</td>\n",
       "      <td>49</td>\n",
       "      <td>50</td>\n",
       "      <td>3</td>\n",
       "    </tr>\n",
       "    <tr>\n",
       "      <th>ND1</th>\n",
       "      <td>337</td>\n",
       "      <td>74</td>\n",
       "      <td>44</td>\n",
       "      <td>17</td>\n",
       "      <td>3</td>\n",
       "    </tr>\n",
       "    <tr>\n",
       "      <th>ND2</th>\n",
       "      <td>285</td>\n",
       "      <td>90</td>\n",
       "      <td>56</td>\n",
       "      <td>27</td>\n",
       "      <td>3</td>\n",
       "    </tr>\n",
       "    <tr>\n",
       "      <th>ND3</th>\n",
       "      <td>83</td>\n",
       "      <td>29</td>\n",
       "      <td>7</td>\n",
       "      <td>4</td>\n",
       "      <td>0</td>\n",
       "    </tr>\n",
       "    <tr>\n",
       "      <th>ND4</th>\n",
       "      <td>456</td>\n",
       "      <td>106</td>\n",
       "      <td>72</td>\n",
       "      <td>35</td>\n",
       "      <td>0</td>\n",
       "    </tr>\n",
       "    <tr>\n",
       "      <th>ND4L</th>\n",
       "      <td>89</td>\n",
       "      <td>25</td>\n",
       "      <td>17</td>\n",
       "      <td>3</td>\n",
       "      <td>0</td>\n",
       "    </tr>\n",
       "    <tr>\n",
       "      <th>ND5</th>\n",
       "      <td>648</td>\n",
       "      <td>148</td>\n",
       "      <td>62</td>\n",
       "      <td>34</td>\n",
       "      <td>0</td>\n",
       "    </tr>\n",
       "    <tr>\n",
       "      <th>ND6</th>\n",
       "      <td>171</td>\n",
       "      <td>0</td>\n",
       "      <td>0</td>\n",
       "      <td>0</td>\n",
       "      <td>0</td>\n",
       "    </tr>\n",
       "    <tr>\n",
       "      <th>RNR1</th>\n",
       "      <td>490</td>\n",
       "      <td>0</td>\n",
       "      <td>0</td>\n",
       "      <td>0</td>\n",
       "      <td>0</td>\n",
       "    </tr>\n",
       "    <tr>\n",
       "      <th>RNR2</th>\n",
       "      <td>823</td>\n",
       "      <td>0</td>\n",
       "      <td>0</td>\n",
       "      <td>0</td>\n",
       "      <td>0</td>\n",
       "    </tr>\n",
       "    <tr>\n",
       "      <th>TRNA</th>\n",
       "      <td>44</td>\n",
       "      <td>0</td>\n",
       "      <td>0</td>\n",
       "      <td>0</td>\n",
       "      <td>0</td>\n",
       "    </tr>\n",
       "    <tr>\n",
       "      <th>TRNC</th>\n",
       "      <td>32</td>\n",
       "      <td>0</td>\n",
       "      <td>0</td>\n",
       "      <td>0</td>\n",
       "      <td>0</td>\n",
       "    </tr>\n",
       "    <tr>\n",
       "      <th>TRND</th>\n",
       "      <td>18</td>\n",
       "      <td>0</td>\n",
       "      <td>0</td>\n",
       "      <td>0</td>\n",
       "      <td>0</td>\n",
       "    </tr>\n",
       "    <tr>\n",
       "      <th>TRNE</th>\n",
       "      <td>18</td>\n",
       "      <td>0</td>\n",
       "      <td>0</td>\n",
       "      <td>0</td>\n",
       "      <td>0</td>\n",
       "    </tr>\n",
       "    <tr>\n",
       "      <th>TRNF</th>\n",
       "      <td>21</td>\n",
       "      <td>0</td>\n",
       "      <td>0</td>\n",
       "      <td>0</td>\n",
       "      <td>0</td>\n",
       "    </tr>\n",
       "    <tr>\n",
       "      <th>TRNG</th>\n",
       "      <td>12</td>\n",
       "      <td>0</td>\n",
       "      <td>0</td>\n",
       "      <td>0</td>\n",
       "      <td>0</td>\n",
       "    </tr>\n",
       "    <tr>\n",
       "      <th>TRNH</th>\n",
       "      <td>21</td>\n",
       "      <td>0</td>\n",
       "      <td>0</td>\n",
       "      <td>0</td>\n",
       "      <td>0</td>\n",
       "    </tr>\n",
       "    <tr>\n",
       "      <th>TRNI</th>\n",
       "      <td>34</td>\n",
       "      <td>0</td>\n",
       "      <td>0</td>\n",
       "      <td>0</td>\n",
       "      <td>0</td>\n",
       "    </tr>\n",
       "    <tr>\n",
       "      <th>TRNK</th>\n",
       "      <td>11</td>\n",
       "      <td>0</td>\n",
       "      <td>0</td>\n",
       "      <td>0</td>\n",
       "      <td>0</td>\n",
       "    </tr>\n",
       "    <tr>\n",
       "      <th>TRNL1</th>\n",
       "      <td>42</td>\n",
       "      <td>0</td>\n",
       "      <td>0</td>\n",
       "      <td>0</td>\n",
       "      <td>0</td>\n",
       "    </tr>\n",
       "    <tr>\n",
       "      <th>TRNL2</th>\n",
       "      <td>34</td>\n",
       "      <td>0</td>\n",
       "      <td>0</td>\n",
       "      <td>0</td>\n",
       "      <td>0</td>\n",
       "    </tr>\n",
       "    <tr>\n",
       "      <th>TRNM</th>\n",
       "      <td>53</td>\n",
       "      <td>0</td>\n",
       "      <td>0</td>\n",
       "      <td>0</td>\n",
       "      <td>0</td>\n",
       "    </tr>\n",
       "    <tr>\n",
       "      <th>TRNN</th>\n",
       "      <td>26</td>\n",
       "      <td>0</td>\n",
       "      <td>0</td>\n",
       "      <td>0</td>\n",
       "      <td>0</td>\n",
       "    </tr>\n",
       "    <tr>\n",
       "      <th>TRNP</th>\n",
       "      <td>33</td>\n",
       "      <td>0</td>\n",
       "      <td>0</td>\n",
       "      <td>0</td>\n",
       "      <td>0</td>\n",
       "    </tr>\n",
       "    <tr>\n",
       "      <th>TRNQ</th>\n",
       "      <td>22</td>\n",
       "      <td>0</td>\n",
       "      <td>0</td>\n",
       "      <td>0</td>\n",
       "      <td>0</td>\n",
       "    </tr>\n",
       "    <tr>\n",
       "      <th>TRNR</th>\n",
       "      <td>18</td>\n",
       "      <td>0</td>\n",
       "      <td>0</td>\n",
       "      <td>0</td>\n",
       "      <td>0</td>\n",
       "    </tr>\n",
       "    <tr>\n",
       "      <th>TRNS1</th>\n",
       "      <td>17</td>\n",
       "      <td>0</td>\n",
       "      <td>0</td>\n",
       "      <td>0</td>\n",
       "      <td>0</td>\n",
       "    </tr>\n",
       "    <tr>\n",
       "      <th>TRNS2</th>\n",
       "      <td>23</td>\n",
       "      <td>0</td>\n",
       "      <td>0</td>\n",
       "      <td>0</td>\n",
       "      <td>0</td>\n",
       "    </tr>\n",
       "    <tr>\n",
       "      <th>TRNT</th>\n",
       "      <td>28</td>\n",
       "      <td>0</td>\n",
       "      <td>0</td>\n",
       "      <td>0</td>\n",
       "      <td>0</td>\n",
       "    </tr>\n",
       "    <tr>\n",
       "      <th>TRNV</th>\n",
       "      <td>44</td>\n",
       "      <td>0</td>\n",
       "      <td>0</td>\n",
       "      <td>0</td>\n",
       "      <td>0</td>\n",
       "    </tr>\n",
       "    <tr>\n",
       "      <th>TRNW</th>\n",
       "      <td>32</td>\n",
       "      <td>0</td>\n",
       "      <td>0</td>\n",
       "      <td>0</td>\n",
       "      <td>0</td>\n",
       "    </tr>\n",
       "    <tr>\n",
       "      <th>TRNY</th>\n",
       "      <td>13</td>\n",
       "      <td>0</td>\n",
       "      <td>0</td>\n",
       "      <td>0</td>\n",
       "      <td>0</td>\n",
       "    </tr>\n",
       "  </tbody>\n",
       "</table>\n",
       "</div>"
      ],
      "text/plain": [
       "          non-syn  syn  syn4f  Stop gain  Stop to stop\n",
       "GeneName                                              \n",
       "ATP6          150   51     31          5             0\n",
       "ATP8           11   13      2          5             0\n",
       "COX1          428  124     72         59             0\n",
       "COX2          184   45     28          9             1\n",
       "COX3          261   47     22         30             0\n",
       "CYTB          450   83     49         50             3\n",
       "ND1           337   74     44         17             3\n",
       "ND2           285   90     56         27             3\n",
       "ND3            83   29      7          4             0\n",
       "ND4           456  106     72         35             0\n",
       "ND4L           89   25     17          3             0\n",
       "ND5           648  148     62         34             0\n",
       "ND6           171    0      0          0             0\n",
       "RNR1          490    0      0          0             0\n",
       "RNR2          823    0      0          0             0\n",
       "TRNA           44    0      0          0             0\n",
       "TRNC           32    0      0          0             0\n",
       "TRND           18    0      0          0             0\n",
       "TRNE           18    0      0          0             0\n",
       "TRNF           21    0      0          0             0\n",
       "TRNG           12    0      0          0             0\n",
       "TRNH           21    0      0          0             0\n",
       "TRNI           34    0      0          0             0\n",
       "TRNK           11    0      0          0             0\n",
       "TRNL1          42    0      0          0             0\n",
       "TRNL2          34    0      0          0             0\n",
       "TRNM           53    0      0          0             0\n",
       "TRNN           26    0      0          0             0\n",
       "TRNP           33    0      0          0             0\n",
       "TRNQ           22    0      0          0             0\n",
       "TRNR           18    0      0          0             0\n",
       "TRNS1          17    0      0          0             0\n",
       "TRNS2          23    0      0          0             0\n",
       "TRNT           28    0      0          0             0\n",
       "TRNV           44    0      0          0             0\n",
       "TRNW           32    0      0          0             0\n",
       "TRNY           13    0      0          0             0"
      ]
     },
     "execution_count": 11,
     "metadata": {},
     "output_type": "execute_result"
    }
   ],
   "source": [
    "mutations_summary(mutations, gene_col=\"GeneName\")"
   ]
  },
  {
   "cell_type": "markdown",
   "metadata": {},
   "source": [
    "## For asymmetry"
   ]
  },
  {
   "cell_type": "code",
   "execution_count": 12,
   "metadata": {},
   "outputs": [
    {
     "data": {
      "image/png": "[encoded data removed]",
      "text/plain": [
       "<Figure size 576x216 with 1 Axes>"
      ]
     },
     "metadata": {
      "needs_background": "light"
     },
     "output_type": "display_data"
    }
   ],
   "source": [
    "plt.figure(figsize=(8, 3))\n",
    "plt.plot(Ref.Pos, Ref.TBSS)\n",
    "plt.title(\"TBSS\")\n",
    "plt.ylabel(\"TBSS\")\n",
    "plt.xlabel(\"Pos\")\n",
    "plt.show()"
   ]
  },
  {
   "cell_type": "code",
   "execution_count": 24,
   "metadata": {},
   "outputs": [
    {
     "name": "stdout",
     "output_type": "stream",
     "text": [
      "Low TSSS region: 5800-10800\n",
      "High TSSS region: 11000-16000\n",
      "\n",
      "Please check that they are not intersect!!\n"
     ]
    }
   ],
   "source": [
    "major_arc_min_pos = 5800\n",
    "major_arc_max_pos = 16000\n",
    "\n",
    "region_size = 5000\n",
    "print(f\"Low TSSS region: {major_arc_min_pos}-{major_arc_min_pos+region_size}\\nHigh TSSS region: {major_arc_max_pos-region_size}-{major_arc_max_pos}\\n\")\n",
    "print(\"Please check that they are not intersect!!\")"
   ]
  },
  {
   "cell_type": "markdown",
   "metadata": {},
   "source": [
    "**Prepare OBS**"
   ]
  },
  {
   "cell_type": "code",
   "execution_count": 14,
   "metadata": {},
   "outputs": [
    {
     "name": "stdout",
     "output_type": "stream",
     "text": [
      "(1724, 16) (2048, 16)\n",
      "(338, 16) (321, 16)\n"
     ]
    }
   ],
   "source": [
    "obs_low_tsss_all = mutations[\n",
    "    (mutations.Type != \"D-loop\") &\n",
    "    (mutations.Pos > major_arc_min_pos) &\n",
    "    (mutations.Pos < major_arc_min_pos+region_size) & \n",
    "    (mutations.Strand == 1)\n",
    "]\n",
    "obs_high_tsss_all = mutations[\n",
    "    (mutations.Type != \"D-loop\") &\n",
    "    (mutations.Pos > major_arc_max_pos-region_size) &\n",
    "    (mutations.Pos < major_arc_max_pos) &\n",
    "    (mutations.Strand == 1)\n",
    "]\n",
    "\n",
    "obs_low_tsss_syn = obs_low_tsss_all[obs_low_tsss_all.Label >= 1]\n",
    "obs_high_tsss_syn = obs_high_tsss_all[obs_high_tsss_all.Label >= 1]\n",
    "\n",
    "print(obs_low_tsss_all.shape, obs_high_tsss_all.shape)\n",
    "print(obs_low_tsss_syn.shape, obs_high_tsss_syn.shape)"
   ]
  },
  {
   "cell_type": "code",
   "execution_count": 15,
   "metadata": {},
   "outputs": [
    {
     "name": "stdout",
     "output_type": "stream",
     "text": [
      "5073.0 4956.0 15170.0 14981.0\n"
     ]
    }
   ],
   "source": [
    "print(\n",
    "    obs_low_tsss_all.TBSS.mean().round(),\n",
    "    obs_low_tsss_syn.TBSS.mean().round(),\n",
    "    obs_high_tsss_all.TBSS.mean().round(),\n",
    "    obs_high_tsss_syn.TBSS.mean().round(),\n",
    ")"
   ]
  },
  {
   "cell_type": "markdown",
   "metadata": {},
   "source": [
    "**Prepare EXP**"
   ]
  },
  {
   "cell_type": "code",
   "execution_count": 16,
   "metadata": {},
   "outputs": [],
   "source": [
    "cur_ref = Ref[(Ref.Type != \"D-loop\")].assign(AltNuc=\"ACGT\")\n",
    "cur_ref[\"AltNuc\"] = cur_ref.AltNuc.apply(list)\n",
    "cur_ref[\"AltCodon\"] = cur_ref.apply(lambda x: coda.get_syn_codons(x.Codon, x.PosInCodon-1) if x.PosInCodon > -1 else [], axis=1)\n",
    "\n",
    "ref_low_tsss = cur_ref[\n",
    "    (cur_ref.Pos > major_arc_min_pos) &\n",
    "    (cur_ref.Pos < major_arc_min_pos+region_size) & \n",
    "    (cur_ref.Strand == 1)\n",
    "]\n",
    "ref_high_tsss = cur_ref[\n",
    "    (cur_ref.Pos > major_arc_max_pos-region_size) &\n",
    "    (cur_ref.Pos < major_arc_max_pos) &\n",
    "    (cur_ref.Strand == 1)\n",
    "]"
   ]
  },
  {
   "cell_type": "code",
   "execution_count": 17,
   "metadata": {},
   "outputs": [
    {
     "name": "stdout",
     "output_type": "stream",
     "text": [
      "(14394, 14)\n",
      "(3271, 14)\n",
      "(13065, 14)\n",
      "(2976, 14)\n"
     ]
    }
   ],
   "source": [
    "exp_low_tsss_all = ref_low_tsss.explode(\"AltNuc\")\n",
    "exp_low_tsss_all = exp_low_tsss_all[exp_low_tsss_all.Nuc != exp_low_tsss_all.AltNuc]\n",
    "exp_low_tsss_all[\"Sbs12\"] = exp_low_tsss_all.Nuc + \">\" + exp_low_tsss_all.AltNuc\n",
    "exp_low_tsss_all[\"Sbs192\"] = exp_low_tsss_all.Context.str.get(0) + \"[\" + exp_low_tsss_all[\"Sbs12\"] + \"]\" + exp_low_tsss_all.Context.str.get(-1)\n",
    "\n",
    "exp_low_tsss_syn = ref_low_tsss.explode(\"AltCodon\").dropna(subset=\"AltCodon\")\n",
    "exp_low_tsss_syn[\"Sbs12\"] = exp_low_tsss_syn.Nuc + \">\" + exp_low_tsss_syn.apply(lambda x: x.AltCodon[x.PosInCodon-1], axis=1)\n",
    "exp_low_tsss_syn[\"Sbs192\"] = exp_low_tsss_syn.Context.str.get(0) + \"[\" + exp_low_tsss_syn[\"Sbs12\"] + \"]\" + exp_low_tsss_syn.Context.str.get(-1)\n",
    "\n",
    "\n",
    "exp_high_tsss_all = ref_high_tsss.explode(\"AltNuc\")\n",
    "exp_high_tsss_all = exp_high_tsss_all[exp_high_tsss_all.Nuc != exp_high_tsss_all.AltNuc]\n",
    "exp_high_tsss_all[\"Sbs12\"] = exp_high_tsss_all.Nuc + \">\" + exp_high_tsss_all.AltNuc\n",
    "exp_high_tsss_all[\"Sbs192\"] = exp_high_tsss_all.Context.str.get(0) + \"[\" + exp_high_tsss_all[\"Sbs12\"] + \"]\" + exp_high_tsss_all.Context.str.get(-1)\n",
    "\n",
    "exp_high_tsss_syn = ref_high_tsss.explode(\"AltCodon\").dropna(subset=\"AltCodon\")\n",
    "exp_high_tsss_syn[\"Sbs12\"] = exp_high_tsss_syn.Nuc + \">\" + exp_high_tsss_syn.apply(lambda x: x.AltCodon[x.PosInCodon-1], axis=1)\n",
    "exp_high_tsss_syn[\"Sbs192\"] = exp_high_tsss_syn.Context.str.get(0) + \"[\" + exp_high_tsss_syn[\"Sbs12\"] + \"]\" + exp_high_tsss_syn.Context.str.get(-1)\n",
    "\n",
    "\n",
    "exp_low_tsss_all_freqs = exp_low_tsss_all.Sbs192.value_counts().to_dict()\n",
    "exp_low_tsss_syn_freqs = exp_low_tsss_syn.Sbs192.value_counts().to_dict()\n",
    "exp_high_tsss_all_freqs = exp_high_tsss_all.Sbs192.value_counts().to_dict()\n",
    "exp_high_tsss_syn_freqs = exp_high_tsss_syn.Sbs192.value_counts().to_dict()\n",
    "\n",
    "print(exp_low_tsss_all.shape)\n",
    "print(exp_low_tsss_syn.shape)\n",
    "print(exp_high_tsss_all.shape)\n",
    "print(exp_high_tsss_syn.shape)"
   ]
  },
  {
   "cell_type": "code",
   "execution_count": 18,
   "metadata": {},
   "outputs": [
    {
     "name": "stdout",
     "output_type": "stream",
     "text": [
      "5134.0 5067.0 15091.0 15088.0\n"
     ]
    }
   ],
   "source": [
    "print(\n",
    "    exp_low_tsss_all.TBSS.mean().round(),\n",
    "    exp_low_tsss_syn.TBSS.mean().round(),\n",
    "    exp_high_tsss_all.TBSS.mean().round(),\n",
    "    exp_high_tsss_syn.TBSS.mean().round(),\n",
    ")"
   ]
  },
  {
   "cell_type": "code",
   "execution_count": 19,
   "metadata": {},
   "outputs": [],
   "source": [
    "ms_low_tsss_all = calculate_mutspec(obs_low_tsss_all, exp_low_tsss_all_freqs, use_context=True)\n",
    "ms_low_tsss_syn = calculate_mutspec(obs_low_tsss_syn, exp_low_tsss_syn_freqs, use_context=True)\n",
    "ms_high_tsss_all = calculate_mutspec(obs_high_tsss_all, exp_high_tsss_all_freqs, use_context=True)\n",
    "ms_high_tsss_syn = calculate_mutspec(obs_high_tsss_syn, exp_high_tsss_syn_freqs, use_context=True)"
   ]
  },
  {
   "cell_type": "code",
   "execution_count": 20,
   "metadata": {},
   "outputs": [],
   "source": [
    "ms_low_tsss_all.to_csv(\"../data/cancer_asymmetry/ms_low_tsss_all.csv\", index=False)\n",
    "ms_low_tsss_syn.to_csv(\"../data/cancer_asymmetry/ms_low_tsss_syn.csv\", index=False)\n",
    "ms_high_tsss_all.to_csv(\"../data/cancer_asymmetry/ms_high_tsss_all.csv\", index=False)\n",
    "ms_high_tsss_syn.to_csv(\"../data/cancer_asymmetry/ms_high_tsss_syn.csv\", index=False)"
   ]
  },
  {
   "cell_type": "code",
   "execution_count": 21,
   "metadata": {},
   "outputs": [
    {
     "name": "stdout",
     "output_type": "stream",
     "text": [
      "0 0 0 0\n"
     ]
    }
   ],
   "source": [
    "print(ms_low_tsss_all.MutSpec.isna().sum(),\n",
    "    ms_low_tsss_syn.MutSpec.isna().sum(),\n",
    "    ms_high_tsss_all.MutSpec.isna().sum(),\n",
    "    ms_high_tsss_syn.MutSpec.isna().sum()\n",
    ")"
   ]
  },
  {
   "cell_type": "code",
   "execution_count": 22,
   "metadata": {},
   "outputs": [
    {
     "name": "stdout",
     "output_type": "stream",
     "text": [
      "75 121 70 122\n"
     ]
    }
   ],
   "source": [
    "print((ms_low_tsss_all.MutSpec == 0).sum(),\n",
    "    (ms_low_tsss_syn.MutSpec == 0).sum(),\n",
    "    (ms_high_tsss_all.MutSpec == 0).sum(),\n",
    "    (ms_high_tsss_syn.MutSpec == 0).sum()\n",
    ")"
   ]
  },
  {
   "cell_type": "code",
   "execution_count": null,
   "metadata": {},
   "outputs": [],
   "source": []
  }
 ],
 "metadata": {
  "kernelspec": {
   "display_name": "Python 3.10.4 64-bit",
   "language": "python",
   "name": "python3"
  },
  "language_info": {
   "codemirror_mode": {
    "name": "ipython",
    "version": 3
   },
   "file_extension": ".py",
   "mimetype": "text/x-python",
   "name": "python",
   "nbconvert_exporter": "python",
   "pygments_lexer": "ipython3",
   "version": "3.9.5"
  },
  "orig_nbformat": 4,
  "vscode": {
   "interpreter": {
    "hash": "916dbcbb3f70747c44a77c7bcd40155683ae19c65e1c03b4aa3499c5328201f1"
   }
  }
 },
 "nbformat": 4,
 "nbformat_minor": 2
}
